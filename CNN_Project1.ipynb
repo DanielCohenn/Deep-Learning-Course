{
 "cells": [
  {
   "cell_type": "markdown",
   "id": "imported-album",
   "metadata": {},
   "source": [
    "# Project No. 1 (סעיף ד) CNN "
   ]
  },
  {
   "cell_type": "markdown",
   "id": "distributed-watershed",
   "metadata": {},
   "source": [
    "### Loading libraries"
   ]
  },
  {
   "cell_type": "code",
   "execution_count": 2,
   "id": "answering-phenomenon",
   "metadata": {},
   "outputs": [],
   "source": [
    "from tensorflow.keras.models import Sequential\n",
    "from tensorflow.keras.layers import Dense, Flatten, Dropout, Conv2D, MaxPool2D\n",
    "from tensorflow.keras.preprocessing.image import ImageDataGenerator\n",
    "from tensorflow.keras.optimizers import Adam\n",
    "import tensorflow as tf\n",
    "import numpy as np\n",
    "import matplotlib.pyplot as plt\n",
    "import os\n",
    "import glob\n",
    "import pandas as pd    \n",
    "from sklearn.model_selection import train_test_split\n",
    "from sklearn.metrics import confusion_matrix, recall_score, precision_score, accuracy_score"
   ]
  },
  {
   "cell_type": "markdown",
   "id": "macro-limit",
   "metadata": {},
   "source": [
    "### Extracting dataset"
   ]
  },
  {
   "cell_type": "code",
   "execution_count": 3,
   "id": "falling-passport",
   "metadata": {},
   "outputs": [],
   "source": [
    "# Extracting data in DataFrame format\n",
    "main_path = 'C:\\\\Users\\\\dani1\\\\Documents\\\\chest_xray'\n",
    "\n",
    "\n",
    "train_path = os.path.join(main_path,'train')\n",
    "test_path=os.path.join(main_path,'test')\n",
    "\n",
    "train_normal = glob.glob(train_path+'\\\\NORMAL\\\\*.jpeg')\n",
    "train_pneumonia = glob.glob(train_path+'\\\\PNEUMONIA\\\\*.jpeg')\n",
    "\n",
    "test_normal = glob.glob(test_path+'\\\\NORMAL\\\\*.jpeg')\n",
    "test_pneumonia = glob.glob(test_path+'\\\\PNEUMONIA\\\\*.jpeg')\n",
    "\n",
    "train_list = [x for x in train_normal]\n",
    "train_list.extend([x for x in train_pneumonia])\n",
    "\n",
    "df_train = pd.DataFrame(np.concatenate([['Normal']*len(train_normal) , ['Pneumonia']*len(train_pneumonia)]), columns = ['class'])\n",
    "df_train['image'] = [x for x in train_list]\n",
    "\n",
    "test_list = [x for x in test_normal]\n",
    "test_list.extend([x for x in test_pneumonia])\n",
    "\n",
    "df_test = pd.DataFrame(np.concatenate([['Normal']*len(test_normal) , ['Pneumonia']*len(test_pneumonia)]), columns = ['class'])\n",
    "df_test['image'] = [x for x in test_list]\n"
   ]
  },
  {
   "cell_type": "code",
   "execution_count": 3,
   "id": "caroline-recruitment",
   "metadata": {},
   "outputs": [
    {
     "name": "stdout",
     "output_type": "stream",
     "text": [
      "    class                                              image\n",
      "0  Normal  C:\\Users\\dani1\\Documents\\chest_xray\\train\\NORM...\n",
      "1  Normal  C:\\Users\\dani1\\Documents\\chest_xray\\train\\NORM...\n",
      "2  Normal  C:\\Users\\dani1\\Documents\\chest_xray\\train\\NORM...\n",
      "3  Normal  C:\\Users\\dani1\\Documents\\chest_xray\\train\\NORM...\n",
      "4  Normal  C:\\Users\\dani1\\Documents\\chest_xray\\train\\NORM...\n",
      "Number of pictures in Train dataset: 5216\n"
     ]
    }
   ],
   "source": [
    "print(df_train.head())\n",
    "print(f'Number of pictures in Train dataset: {len(df_train)}')"
   ]
  },
  {
   "cell_type": "code",
   "execution_count": 4,
   "id": "future-colleague",
   "metadata": {},
   "outputs": [
    {
     "name": "stdout",
     "output_type": "stream",
     "text": [
      "    class                                              image\n",
      "0  Normal  C:\\Users\\dani1\\Documents\\chest_xray\\test\\NORMA...\n",
      "1  Normal  C:\\Users\\dani1\\Documents\\chest_xray\\test\\NORMA...\n",
      "2  Normal  C:\\Users\\dani1\\Documents\\chest_xray\\test\\NORMA...\n",
      "3  Normal  C:\\Users\\dani1\\Documents\\chest_xray\\test\\NORMA...\n",
      "4  Normal  C:\\Users\\dani1\\Documents\\chest_xray\\test\\NORMA...\n",
      "Number of pictures in Test dataset: 624\n"
     ]
    }
   ],
   "source": [
    "print(df_test.head())\n",
    "print(f'Number of pictures in Test dataset: {len(df_test)}')"
   ]
  },
  {
   "cell_type": "markdown",
   "id": "above-communications",
   "metadata": {},
   "source": [
    "### Preproccesing our dataset for CNN"
   ]
  },
  {
   "cell_type": "code",
   "execution_count": 5,
   "id": "improving-agenda",
   "metadata": {},
   "outputs": [],
   "source": [
    "# Splitting train dataframe to train(90%) and validation(10%)\n",
    "train_df, val_df = train_test_split(df_train, test_size = 0.1, random_state = 42, stratify = df_train['class'])"
   ]
  },
  {
   "cell_type": "code",
   "execution_count": 6,
   "id": "sticky-review",
   "metadata": {},
   "outputs": [
    {
     "name": "stdout",
     "output_type": "stream",
     "text": [
      "Number of pictures in Validation dataset: 522\n",
      "Number of pictures in Train dataset: 4694\n"
     ]
    }
   ],
   "source": [
    "print(f'Number of pictures in Validation dataset: {len(val_df)}')\n",
    "print(f'Number of pictures in Train dataset: {len(train_df)}')"
   ]
  },
  {
   "cell_type": "code",
   "execution_count": 7,
   "id": "geographic-eating",
   "metadata": {},
   "outputs": [
    {
     "name": "stdout",
     "output_type": "stream",
     "text": [
      "Found 4694 validated image filenames belonging to 2 classes.\n",
      "Found 522 validated image filenames belonging to 2 classes.\n",
      "Found 624 validated image filenames belonging to 2 classes.\n",
      "(224, 224, 1)\n"
     ]
    }
   ],
   "source": [
    "# Preproccesing data\n",
    "batch_size = 64\n",
    "\n",
    "train_datagen = ImageDataGenerator(rescale=1./255)\n",
    "\n",
    "val_datagen = ImageDataGenerator(rescale=1./255)\n",
    "\n",
    "test_datagen = ImageDataGenerator(rescale=1./255)\n",
    "\n",
    "ds_train = train_datagen.flow_from_dataframe(train_df,\n",
    "                                             x_col = 'image',\n",
    "                                             y_col = 'class',\n",
    "                                             target_size = (224, 224),\n",
    "                                             class_mode = 'binary',\n",
    "                                             color_mode = 'grayscale',\n",
    "                                             batch_size = batch_size,\n",
    "                                             shuffle=True,\n",
    "                                             seed = 42)\n",
    "\n",
    "ds_val = val_datagen.flow_from_dataframe(val_df,\n",
    "                                        x_col = 'image',\n",
    "                                        y_col = 'class',\n",
    "                                        target_size = (224, 224),\n",
    "                                        class_mode = 'binary',\n",
    "                                        color_mode = 'grayscale',\n",
    "                                        batch_size = batch_size,\n",
    "                                        shuffle=True,\n",
    "                                        seed = 42)\n",
    "\n",
    "ds_test = test_datagen.flow_from_dataframe(df_test,\n",
    "                                        x_col = 'image',\n",
    "                                        y_col = 'class',\n",
    "                                        target_size = (224, 224),\n",
    "                                        class_mode = 'binary',\n",
    "                                        color_mode = 'grayscale',\n",
    "                                        batch_size = 1,\n",
    "                                        shuffle = False)\n",
    "\n",
    "print(ds_train.image_shape)"
   ]
  },
  {
   "cell_type": "markdown",
   "id": "brilliant-saying",
   "metadata": {},
   "source": [
    "### Building DNN model and training"
   ]
  },
  {
   "cell_type": "code",
   "execution_count": 10,
   "id": "polish-overview",
   "metadata": {},
   "outputs": [
    {
     "name": "stdout",
     "output_type": "stream",
     "text": [
      "Model: \"sequential_2\"\n",
      "_________________________________________________________________\n",
      "Layer (type)                 Output Shape              Param #   \n",
      "=================================================================\n",
      "conv2d_9 (Conv2D)            (None, 224, 224, 32)      320       \n",
      "_________________________________________________________________\n",
      "max_pooling2d_9 (MaxPooling2 (None, 112, 112, 32)      0         \n",
      "_________________________________________________________________\n",
      "conv2d_10 (Conv2D)           (None, 112, 112, 32)      9248      \n",
      "_________________________________________________________________\n",
      "max_pooling2d_10 (MaxPooling (None, 56, 56, 32)        0         \n",
      "_________________________________________________________________\n",
      "conv2d_11 (Conv2D)           (None, 56, 56, 64)        18496     \n",
      "_________________________________________________________________\n",
      "max_pooling2d_11 (MaxPooling (None, 28, 28, 64)        0         \n",
      "_________________________________________________________________\n",
      "conv2d_12 (Conv2D)           (None, 28, 28, 128)       73856     \n",
      "_________________________________________________________________\n",
      "max_pooling2d_12 (MaxPooling (None, 14, 14, 128)       0         \n",
      "_________________________________________________________________\n",
      "flatten_2 (Flatten)          (None, 25088)             0         \n",
      "_________________________________________________________________\n",
      "dense_4 (Dense)              (None, 64)                1605696   \n",
      "_________________________________________________________________\n",
      "dropout_2 (Dropout)          (None, 64)                0         \n",
      "_________________________________________________________________\n",
      "dense_5 (Dense)              (None, 1)                 65        \n",
      "=================================================================\n",
      "Total params: 1,707,681\n",
      "Trainable params: 1,707,681\n",
      "Non-trainable params: 0\n",
      "_________________________________________________________________\n"
     ]
    }
   ],
   "source": [
    "# Building model\n",
    "model = Sequential()\n",
    "\n",
    "model.add(Conv2D(32, (3, 3), activation='relu', input_shape=(224, 224, 1), padding='same'))\n",
    "model.add(MaxPool2D(pool_size=(2, 2)))\n",
    "model.add(Conv2D(32, (3, 3),  activation='relu', padding='same'))\n",
    "model.add(MaxPool2D(pool_size=(2, 2)))\n",
    "\n",
    "model.add(Conv2D(64, (3, 3), activation='relu', padding=\"same\"))\n",
    "model.add(MaxPool2D(pool_size=(2, 2)))\n",
    "\n",
    "model.add(Conv2D(128, (3, 3), activation='relu', padding=\"same\"))\n",
    "model.add(MaxPool2D(pool_size=(2, 2)))\n",
    "\n",
    "model.add(Flatten())\n",
    "model.add(Dense(64, activation=\"relu\"))\n",
    "model.add(Dropout(0.5))\n",
    "model.add(Dense(1, activation='sigmoid'))\n",
    "\n",
    "model.summary()"
   ]
  },
  {
   "cell_type": "code",
   "execution_count": 12,
   "id": "expected-member",
   "metadata": {
    "scrolled": true
   },
   "outputs": [
    {
     "name": "stdout",
     "output_type": "stream",
     "text": [
      "Epoch 1/50\n",
      "74/74 [==============================] - 137s 2s/step - loss: 0.6448 - accuracy: 0.7237 - val_loss: 0.5964 - val_accuracy: 0.7433\n",
      "Epoch 2/50\n",
      "74/74 [==============================] - 176s 2s/step - loss: 0.5911 - accuracy: 0.7429 - val_loss: 0.5770 - val_accuracy: 0.7433\n",
      "Epoch 3/50\n",
      "74/74 [==============================] - 148s 2s/step - loss: 0.5833 - accuracy: 0.7429 - val_loss: 0.5689 - val_accuracy: 0.7433\n",
      "Epoch 4/50\n",
      "74/74 [==============================] - 137s 2s/step - loss: 0.5742 - accuracy: 0.7429 - val_loss: 0.5574 - val_accuracy: 0.7433\n",
      "Epoch 5/50\n",
      "74/74 [==============================] - 154s 2s/step - loss: 0.5611 - accuracy: 0.7429 - val_loss: 0.5319 - val_accuracy: 0.7433\n",
      "Epoch 6/50\n",
      "74/74 [==============================] - 148s 2s/step - loss: 0.5298 - accuracy: 0.7433 - val_loss: 0.4912 - val_accuracy: 0.7433\n",
      "Epoch 7/50\n",
      "74/74 [==============================] - 158s 2s/step - loss: 0.4888 - accuracy: 0.7533 - val_loss: 0.4343 - val_accuracy: 0.7548\n",
      "Epoch 8/50\n",
      "74/74 [==============================] - 186s 3s/step - loss: 0.4395 - accuracy: 0.7857 - val_loss: 0.3748 - val_accuracy: 0.8448\n",
      "Epoch 9/50\n",
      "74/74 [==============================] - 168s 2s/step - loss: 0.3919 - accuracy: 0.8228 - val_loss: 0.3222 - val_accuracy: 0.8716\n",
      "Epoch 10/50\n",
      "74/74 [==============================] - 167s 2s/step - loss: 0.3540 - accuracy: 0.8455 - val_loss: 0.2903 - val_accuracy: 0.8927\n",
      "Epoch 11/50\n",
      "74/74 [==============================] - 166s 2s/step - loss: 0.3264 - accuracy: 0.8568 - val_loss: 0.2723 - val_accuracy: 0.8946\n",
      "Epoch 12/50\n",
      "74/74 [==============================] - 168s 2s/step - loss: 0.3108 - accuracy: 0.8673 - val_loss: 0.2793 - val_accuracy: 0.8793\n",
      "Epoch 13/50\n",
      "74/74 [==============================] - 168s 2s/step - loss: 0.2929 - accuracy: 0.8773 - val_loss: 0.2427 - val_accuracy: 0.9023\n",
      "Epoch 14/50\n",
      "74/74 [==============================] - 170s 2s/step - loss: 0.2730 - accuracy: 0.8841 - val_loss: 0.2261 - val_accuracy: 0.9119\n",
      "Epoch 15/50\n",
      "74/74 [==============================] - 169s 2s/step - loss: 0.2640 - accuracy: 0.8901 - val_loss: 0.2242 - val_accuracy: 0.9080\n",
      "Epoch 16/50\n",
      "74/74 [==============================] - 169s 2s/step - loss: 0.2518 - accuracy: 0.8945 - val_loss: 0.2091 - val_accuracy: 0.9176\n",
      "Epoch 17/50\n",
      "74/74 [==============================] - 171s 2s/step - loss: 0.2490 - accuracy: 0.8994 - val_loss: 0.2096 - val_accuracy: 0.9176\n",
      "Epoch 18/50\n",
      "74/74 [==============================] - 173s 2s/step - loss: 0.2370 - accuracy: 0.9022 - val_loss: 0.1944 - val_accuracy: 0.9234\n",
      "Epoch 19/50\n",
      "74/74 [==============================] - 177s 2s/step - loss: 0.2305 - accuracy: 0.9065 - val_loss: 0.1907 - val_accuracy: 0.9291\n",
      "Epoch 20/50\n",
      "74/74 [==============================] - 173s 2s/step - loss: 0.2276 - accuracy: 0.9118 - val_loss: 0.1904 - val_accuracy: 0.9253\n",
      "Epoch 21/50\n",
      "74/74 [==============================] - 175s 2s/step - loss: 0.2172 - accuracy: 0.9152 - val_loss: 0.1847 - val_accuracy: 0.9291\n",
      "Epoch 22/50\n",
      "74/74 [==============================] - 174s 2s/step - loss: 0.2113 - accuracy: 0.9178 - val_loss: 0.1750 - val_accuracy: 0.9368\n",
      "Epoch 23/50\n",
      "74/74 [==============================] - 176s 2s/step - loss: 0.1999 - accuracy: 0.9220 - val_loss: 0.1784 - val_accuracy: 0.9234\n",
      "Epoch 24/50\n",
      "74/74 [==============================] - 183s 2s/step - loss: 0.2098 - accuracy: 0.9231 - val_loss: 0.1640 - val_accuracy: 0.9406\n",
      "Epoch 25/50\n",
      "74/74 [==============================] - 175s 2s/step - loss: 0.1962 - accuracy: 0.9259 - val_loss: 0.1524 - val_accuracy: 0.9502\n",
      "Epoch 26/50\n",
      "74/74 [==============================] - 177s 2s/step - loss: 0.1973 - accuracy: 0.9274 - val_loss: 0.1643 - val_accuracy: 0.9406\n",
      "Epoch 27/50\n",
      "74/74 [==============================] - 184s 2s/step - loss: 0.1856 - accuracy: 0.9284 - val_loss: 0.1618 - val_accuracy: 0.9425\n",
      "Epoch 28/50\n",
      "74/74 [==============================] - 182s 2s/step - loss: 0.1836 - accuracy: 0.9318 - val_loss: 0.1516 - val_accuracy: 0.9444\n",
      "Epoch 29/50\n",
      "74/74 [==============================] - 181s 2s/step - loss: 0.1845 - accuracy: 0.9352 - val_loss: 0.1447 - val_accuracy: 0.9464\n",
      "Epoch 30/50\n",
      "74/74 [==============================] - 182s 2s/step - loss: 0.1842 - accuracy: 0.9346 - val_loss: 0.1384 - val_accuracy: 0.9521\n",
      "Epoch 31/50\n",
      "74/74 [==============================] - 179s 2s/step - loss: 0.1800 - accuracy: 0.9329 - val_loss: 0.1419 - val_accuracy: 0.9464\n",
      "Epoch 32/50\n",
      "74/74 [==============================] - 180s 2s/step - loss: 0.1772 - accuracy: 0.9352 - val_loss: 0.1432 - val_accuracy: 0.9464\n",
      "Epoch 33/50\n",
      "74/74 [==============================] - 182s 2s/step - loss: 0.1767 - accuracy: 0.9318 - val_loss: 0.1399 - val_accuracy: 0.9464\n",
      "Epoch 34/50\n",
      "74/74 [==============================] - 164s 2s/step - loss: 0.1711 - accuracy: 0.9367 - val_loss: 0.1284 - val_accuracy: 0.9579\n",
      "Epoch 35/50\n",
      "74/74 [==============================] - 152s 2s/step - loss: 0.1744 - accuracy: 0.9348 - val_loss: 0.1459 - val_accuracy: 0.9464\n",
      "Epoch 36/50\n",
      "74/74 [==============================] - 162s 2s/step - loss: 0.1694 - accuracy: 0.9384 - val_loss: 0.1339 - val_accuracy: 0.9483\n",
      "Epoch 37/50\n",
      "74/74 [==============================] - 171s 2s/step - loss: 0.1655 - accuracy: 0.9386 - val_loss: 0.1296 - val_accuracy: 0.9483\n",
      "Epoch 38/50\n",
      "74/74 [==============================] - 168s 2s/step - loss: 0.1542 - accuracy: 0.9442 - val_loss: 0.1304 - val_accuracy: 0.9483\n",
      "Epoch 39/50\n",
      "74/74 [==============================] - 171s 2s/step - loss: 0.1609 - accuracy: 0.9401 - val_loss: 0.1504 - val_accuracy: 0.9464\n",
      "Epoch 40/50\n",
      "74/74 [==============================] - 173s 2s/step - loss: 0.1629 - accuracy: 0.9401 - val_loss: 0.1363 - val_accuracy: 0.9464\n",
      "Epoch 41/50\n",
      "74/74 [==============================] - 172s 2s/step - loss: 0.1647 - accuracy: 0.9412 - val_loss: 0.1356 - val_accuracy: 0.9464\n",
      "Epoch 42/50\n",
      "74/74 [==============================] - 174s 2s/step - loss: 0.1579 - accuracy: 0.9431 - val_loss: 0.1217 - val_accuracy: 0.9521\n",
      "Epoch 43/50\n",
      "74/74 [==============================] - 175s 2s/step - loss: 0.1473 - accuracy: 0.9442 - val_loss: 0.1275 - val_accuracy: 0.9483\n",
      "Epoch 44/50\n",
      "74/74 [==============================] - 177s 2s/step - loss: 0.1461 - accuracy: 0.9487 - val_loss: 0.1352 - val_accuracy: 0.9483\n",
      "Epoch 45/50\n",
      "74/74 [==============================] - 176s 2s/step - loss: 0.1546 - accuracy: 0.9467 - val_loss: 0.1354 - val_accuracy: 0.9483\n",
      "Epoch 46/50\n",
      "74/74 [==============================] - 177s 2s/step - loss: 0.1543 - accuracy: 0.9395 - val_loss: 0.1253 - val_accuracy: 0.9483\n",
      "Epoch 47/50\n",
      "74/74 [==============================] - 179s 2s/step - loss: 0.1454 - accuracy: 0.9472 - val_loss: 0.1316 - val_accuracy: 0.9483\n",
      "Epoch 48/50\n",
      "74/74 [==============================] - 174s 2s/step - loss: 0.1494 - accuracy: 0.9429 - val_loss: 0.1277 - val_accuracy: 0.9483\n",
      "Epoch 49/50\n",
      "74/74 [==============================] - 174s 2s/step - loss: 0.1525 - accuracy: 0.9461 - val_loss: 0.1250 - val_accuracy: 0.9483\n",
      "Epoch 50/50\n",
      "74/74 [==============================] - 173s 2s/step - loss: 0.1503 - accuracy: 0.9457 - val_loss: 0.1189 - val_accuracy: 0.9483\n"
     ]
    }
   ],
   "source": [
    "epochs = 50 # Run tf.keras.backend.clear_session() in the last cell before running ___.fit\n",
    "\n",
    "model.compile(loss='binary_crossentropy', optimizer = Adam(learning_rate=1e-5), metrics='accuracy')\n",
    "\n",
    "history = model.fit(ds_train, batch_size = batch_size, epochs = epochs, validation_data=ds_val)"
   ]
  },
  {
   "cell_type": "markdown",
   "id": "exceptional-extraction",
   "metadata": {},
   "source": [
    "### Evaluating results and model preformance"
   ]
  },
  {
   "cell_type": "code",
   "execution_count": 31,
   "id": "floppy-james",
   "metadata": {},
   "outputs": [
    {
     "data": {
      "image/png": "[encoded data removed]",
      "text/plain": [
       "<Figure size 432x288 with 1 Axes>"
      ]
     },
     "metadata": {},
     "output_type": "display_data"
    },
    {
     "data": {
      "image/png": "[encoded data removed]",
      "text/plain": [
       "<Figure size 432x288 with 1 Axes>"
      ]
     },
     "metadata": {},
     "output_type": "display_data"
    }
   ],
   "source": [
    "# plot training and validation Loss/Accuracy vs Epochs\n",
    "plt.figure(1)\n",
    "plt.plot(history.history['loss'])\n",
    "plt.plot(history.history['val_loss'])\n",
    "plt.legend(['training', 'validation'])\n",
    "plt.title('Training and Validation losses vs Epochs, learning rate = 1e-5') \n",
    "plt.xlabel('Epochs')\n",
    "plt.ylabel('Loss')\n",
    "\n",
    "plt.figure(2)\n",
    "plt.plot(history.history['accuracy'])\n",
    "plt.plot(history.history['val_accuracy'])\n",
    "plt.legend(['training', 'validation'])\n",
    "plt.title('Training and Validation accuracy vs Epochs, learning rate = 1e-5') \n",
    "plt.xlabel('Epochs')\n",
    "plt.ylabel('Accuracy')\n",
    "\n",
    "plt.show()"
   ]
  },
  {
   "cell_type": "code",
   "execution_count": 14,
   "id": "frequent-carpet",
   "metadata": {},
   "outputs": [],
   "source": [
    "model.save('My_CNN3_lr1e-5_batchsize64.h5') # Save model"
   ]
  },
  {
   "cell_type": "code",
   "execution_count": 24,
   "id": "centered-possible",
   "metadata": {},
   "outputs": [
    {
     "name": "stdout",
     "output_type": "stream",
     "text": [
      "624/624 [==============================] - 7s 11ms/step - loss: 0.5320 - accuracy: 0.8574\n",
      "Test accuracy: 85.73718070983887%, Test loss: 0.5320330858230591\n"
     ]
    }
   ],
   "source": [
    "test_loss, test_accuracy = model.evaluate(ds_test)\n",
    "print(f\"Test accuracy: {test_accuracy*100}%, Test loss: {test_loss}\")"
   ]
  },
  {
   "cell_type": "code",
   "execution_count": 16,
   "id": "laden-warner",
   "metadata": {},
   "outputs": [],
   "source": [
    "import seaborn as sns\n",
    "\n",
    "num_label = {'Normal': 0, 'Pneumonia' : 1}\n",
    "Y_test = df_test['class'].copy().map(num_label).astype('int')\n",
    "\n",
    "ds_test.reset()\n",
    "predictions = model.predict(ds_test, steps=len(ds_test), verbose=0)\n",
    "pred_labels= np.where(predictions>0.5, 1, 0)"
   ]
  },
  {
   "cell_type": "code",
   "execution_count": 21,
   "id": "cosmetic-lounge",
   "metadata": {},
   "outputs": [
    {
     "data": {
      "image/png": "[encoded data removed]",
      "text/plain": [
       "<Figure size 432x288 with 2 Axes>"
      ]
     },
     "metadata": {
      "needs_background": "light"
     },
     "output_type": "display_data"
    }
   ],
   "source": [
    "confusion_matrix = confusion_matrix(Y_test, pred_labels)\n",
    "sns.heatmap(confusion_matrix, annot=True, fmt=\"d\")\n",
    "\n",
    "plt.xlabel(\"Predicted Label\", fontsize= 12)\n",
    "plt.ylabel(\"True Label\", fontsize= 12)\n",
    "\n",
    "plt.show()"
   ]
  },
  {
   "cell_type": "code",
   "execution_count": 29,
   "id": "nonprofit-desert",
   "metadata": {},
   "outputs": [
    {
     "name": "stdout",
     "output_type": "stream",
     "text": [
      "Recall score is: 0.98\n",
      "Precision score is: 0.82\n"
     ]
    }
   ],
   "source": [
    "Recall = \"{:.2f}\".format(recall_score(Y_test, pred_labels))\n",
    "Precision = \"{:.2f}\".format(precision_score(Y_test, pred_labels))\n",
    "print(f'Recall score is: {Recall}')\n",
    "print(f'Precision score is: {Precision}')"
   ]
  },
  {
   "cell_type": "code",
   "execution_count": 33,
   "id": "timely-inspiration",
   "metadata": {},
   "outputs": [],
   "source": [
    "tf.keras.backend.clear_session() # Run cell before __.fit command"
   ]
  }
 ],
 "metadata": {
  "kernelspec": {
   "display_name": "Python 3",
   "language": "python",
   "name": "python3"
  },
  "language_info": {
   "codemirror_mode": {
    "name": "ipython",
    "version": 3
   },
   "file_extension": ".py",
   "mimetype": "text/x-python",
   "name": "python",
   "nbconvert_exporter": "python",
   "pygments_lexer": "ipython3",
   "version": "3.8.5"
  }
 },
 "nbformat": 4,
 "nbformat_minor": 5
}
